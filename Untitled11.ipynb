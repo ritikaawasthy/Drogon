{
 "cells": [
  {
   "cell_type": "code",
   "execution_count": 4,
   "metadata": {},
   "outputs": [
    {
     "name": "stdout",
     "output_type": "stream",
     "text": [
      "Enter the number of subjects: 2\n",
      "Enter the score 1 :100\n",
      "Enter the weight 1 :.5\n",
      "Enter the score 2 :100\n",
      "Enter the weight 2 :.5\n",
      "50.0\n"
     ]
    }
   ],
   "source": [
    "weight=[]\n",
    "final=[]\n",
    "lis=[]\n",
    "n= input(\"Enter the number of subjects: \")\n",
    "sum=0\n",
    "for i in range(1,n+1):\n",
    "    score= input(\"Enter the score \" + str(i)+\" :\")\n",
    "    lis.append(score)\n",
    "    wt= input(\"Enter the weight \"+ str(i)+\" :\")\n",
    "    weight.append(wt)\n",
    "    final.append(score*wt)\n",
    "    \n",
    "for j in range(n):\n",
    "    sum = float(sum+final[j])\n",
    "    \n",
    "avg= sum/n\n",
    "print(avg)"
   ]
  }
 ],
 "metadata": {
  "kernelspec": {
   "display_name": "Python 2",
   "language": "python",
   "name": "python2"
  },
  "language_info": {
   "codemirror_mode": {
    "name": "ipython",
    "version": 2
   },
   "file_extension": ".py",
   "mimetype": "text/x-python",
   "name": "python",
   "nbconvert_exporter": "python",
   "pygments_lexer": "ipython2",
   "version": "2.7.16"
  }
 },
 "nbformat": 4,
 "nbformat_minor": 2
}
