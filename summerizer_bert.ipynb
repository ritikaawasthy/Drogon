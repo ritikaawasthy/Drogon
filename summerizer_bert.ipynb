{
  "nbformat": 4,
  "nbformat_minor": 0,
  "metadata": {
    "colab": {
      "name": "summerizer bert.ipynb",
      "provenance": [],
      "collapsed_sections": [],
      "authorship_tag": "ABX9TyMUzUImJSbt58Wc+AqnAF/U",
      "include_colab_link": true
    },
    "kernelspec": {
      "name": "python3",
      "display_name": "Python 3"
    }
  },
  "cells": [
    {
      "cell_type": "markdown",
      "metadata": {
        "id": "view-in-github",
        "colab_type": "text"
      },
      "source": [
        "<a href=\"https://colab.research.google.com/github/ritikaawasthy/Git-code/blob/master/summerizer_bert.ipynb\" target=\"_parent\"><img src=\"https://colab.research.google.com/assets/colab-badge.svg\" alt=\"Open In Colab\"/></a>"
      ]
    },
    {
      "cell_type": "code",
      "metadata": {
        "id": "TxzDPnaVUnU9",
        "colab": {
          "base_uri": "https://localhost:8080/"
        },
        "outputId": "a69627fd-2234-48d5-befa-bd1a004c5d89"
      },
      "source": [
        "!pip install bert-extractive-summarizer"
      ],
      "execution_count": 2,
      "outputs": [
        {
          "output_type": "stream",
          "text": [
            "Collecting bert-extractive-summarizer\n",
            "  Downloading https://files.pythonhosted.org/packages/7b/e3/c8b820d8c0a96a9318a423a38242275f2e862425793b5b8287e982324ffc/bert_extractive_summarizer-0.5.1-py3-none-any.whl\n",
            "Requirement already satisfied: spacy in /usr/local/lib/python3.6/dist-packages (from bert-extractive-summarizer) (2.2.4)\n",
            "Requirement already satisfied: scikit-learn in /usr/local/lib/python3.6/dist-packages (from bert-extractive-summarizer) (0.22.2.post1)\n",
            "Collecting transformers\n",
            "\u001b[?25l  Downloading https://files.pythonhosted.org/packages/3a/83/e74092e7f24a08d751aa59b37a9fc572b2e4af3918cb66f7766c3affb1b4/transformers-3.5.1-py3-none-any.whl (1.3MB)\n",
            "\u001b[K     |████████████████████████████████| 1.3MB 5.2MB/s \n",
            "\u001b[?25hRequirement already satisfied: numpy>=1.15.0 in /usr/local/lib/python3.6/dist-packages (from spacy->bert-extractive-summarizer) (1.18.5)\n",
            "Requirement already satisfied: setuptools in /usr/local/lib/python3.6/dist-packages (from spacy->bert-extractive-summarizer) (50.3.2)\n",
            "Requirement already satisfied: catalogue<1.1.0,>=0.0.7 in /usr/local/lib/python3.6/dist-packages (from spacy->bert-extractive-summarizer) (1.0.0)\n",
            "Requirement already satisfied: srsly<1.1.0,>=1.0.2 in /usr/local/lib/python3.6/dist-packages (from spacy->bert-extractive-summarizer) (1.0.4)\n",
            "Requirement already satisfied: thinc==7.4.0 in /usr/local/lib/python3.6/dist-packages (from spacy->bert-extractive-summarizer) (7.4.0)\n",
            "Requirement already satisfied: preshed<3.1.0,>=3.0.2 in /usr/local/lib/python3.6/dist-packages (from spacy->bert-extractive-summarizer) (3.0.4)\n",
            "Requirement already satisfied: murmurhash<1.1.0,>=0.28.0 in /usr/local/lib/python3.6/dist-packages (from spacy->bert-extractive-summarizer) (1.0.4)\n",
            "Requirement already satisfied: wasabi<1.1.0,>=0.4.0 in /usr/local/lib/python3.6/dist-packages (from spacy->bert-extractive-summarizer) (0.8.0)\n",
            "Requirement already satisfied: requests<3.0.0,>=2.13.0 in /usr/local/lib/python3.6/dist-packages (from spacy->bert-extractive-summarizer) (2.23.0)\n",
            "Requirement already satisfied: blis<0.5.0,>=0.4.0 in /usr/local/lib/python3.6/dist-packages (from spacy->bert-extractive-summarizer) (0.4.1)\n",
            "Requirement already satisfied: plac<1.2.0,>=0.9.6 in /usr/local/lib/python3.6/dist-packages (from spacy->bert-extractive-summarizer) (1.1.3)\n",
            "Requirement already satisfied: tqdm<5.0.0,>=4.38.0 in /usr/local/lib/python3.6/dist-packages (from spacy->bert-extractive-summarizer) (4.41.1)\n",
            "Requirement already satisfied: cymem<2.1.0,>=2.0.2 in /usr/local/lib/python3.6/dist-packages (from spacy->bert-extractive-summarizer) (2.0.4)\n",
            "Requirement already satisfied: joblib>=0.11 in /usr/local/lib/python3.6/dist-packages (from scikit-learn->bert-extractive-summarizer) (0.17.0)\n",
            "Requirement already satisfied: scipy>=0.17.0 in /usr/local/lib/python3.6/dist-packages (from scikit-learn->bert-extractive-summarizer) (1.4.1)\n",
            "Requirement already satisfied: regex!=2019.12.17 in /usr/local/lib/python3.6/dist-packages (from transformers->bert-extractive-summarizer) (2019.12.20)\n",
            "Requirement already satisfied: dataclasses; python_version < \"3.7\" in /usr/local/lib/python3.6/dist-packages (from transformers->bert-extractive-summarizer) (0.8)\n",
            "Collecting sentencepiece==0.1.91\n",
            "\u001b[?25l  Downloading https://files.pythonhosted.org/packages/d4/a4/d0a884c4300004a78cca907a6ff9a5e9fe4f090f5d95ab341c53d28cbc58/sentencepiece-0.1.91-cp36-cp36m-manylinux1_x86_64.whl (1.1MB)\n",
            "\u001b[K     |████████████████████████████████| 1.1MB 14.0MB/s \n",
            "\u001b[?25hCollecting tokenizers==0.9.3\n",
            "\u001b[?25l  Downloading https://files.pythonhosted.org/packages/4c/34/b39eb9994bc3c999270b69c9eea40ecc6f0e97991dba28282b9fd32d44ee/tokenizers-0.9.3-cp36-cp36m-manylinux1_x86_64.whl (2.9MB)\n",
            "\u001b[K     |████████████████████████████████| 2.9MB 24.6MB/s \n",
            "\u001b[?25hRequirement already satisfied: packaging in /usr/local/lib/python3.6/dist-packages (from transformers->bert-extractive-summarizer) (20.4)\n",
            "Collecting sacremoses\n",
            "\u001b[?25l  Downloading https://files.pythonhosted.org/packages/7d/34/09d19aff26edcc8eb2a01bed8e98f13a1537005d31e95233fd48216eed10/sacremoses-0.0.43.tar.gz (883kB)\n",
            "\u001b[K     |████████████████████████████████| 890kB 34.4MB/s \n",
            "\u001b[?25hRequirement already satisfied: filelock in /usr/local/lib/python3.6/dist-packages (from transformers->bert-extractive-summarizer) (3.0.12)\n",
            "Requirement already satisfied: protobuf in /usr/local/lib/python3.6/dist-packages (from transformers->bert-extractive-summarizer) (3.12.4)\n",
            "Requirement already satisfied: importlib-metadata>=0.20; python_version < \"3.8\" in /usr/local/lib/python3.6/dist-packages (from catalogue<1.1.0,>=0.0.7->spacy->bert-extractive-summarizer) (2.0.0)\n",
            "Requirement already satisfied: chardet<4,>=3.0.2 in /usr/local/lib/python3.6/dist-packages (from requests<3.0.0,>=2.13.0->spacy->bert-extractive-summarizer) (3.0.4)\n",
            "Requirement already satisfied: idna<3,>=2.5 in /usr/local/lib/python3.6/dist-packages (from requests<3.0.0,>=2.13.0->spacy->bert-extractive-summarizer) (2.10)\n",
            "Requirement already satisfied: certifi>=2017.4.17 in /usr/local/lib/python3.6/dist-packages (from requests<3.0.0,>=2.13.0->spacy->bert-extractive-summarizer) (2020.11.8)\n",
            "Requirement already satisfied: urllib3!=1.25.0,!=1.25.1,<1.26,>=1.21.1 in /usr/local/lib/python3.6/dist-packages (from requests<3.0.0,>=2.13.0->spacy->bert-extractive-summarizer) (1.24.3)\n",
            "Requirement already satisfied: pyparsing>=2.0.2 in /usr/local/lib/python3.6/dist-packages (from packaging->transformers->bert-extractive-summarizer) (2.4.7)\n",
            "Requirement already satisfied: six in /usr/local/lib/python3.6/dist-packages (from packaging->transformers->bert-extractive-summarizer) (1.15.0)\n",
            "Requirement already satisfied: click in /usr/local/lib/python3.6/dist-packages (from sacremoses->transformers->bert-extractive-summarizer) (7.1.2)\n",
            "Requirement already satisfied: zipp>=0.5 in /usr/local/lib/python3.6/dist-packages (from importlib-metadata>=0.20; python_version < \"3.8\"->catalogue<1.1.0,>=0.0.7->spacy->bert-extractive-summarizer) (3.4.0)\n",
            "Building wheels for collected packages: sacremoses\n",
            "  Building wheel for sacremoses (setup.py) ... \u001b[?25l\u001b[?25hdone\n",
            "  Created wheel for sacremoses: filename=sacremoses-0.0.43-cp36-none-any.whl size=893257 sha256=87871cf1f56f6b8cc0a3537195f8f533068b781f0250ee34e54bfaacc13b317a\n",
            "  Stored in directory: /root/.cache/pip/wheels/29/3c/fd/7ce5c3f0666dab31a50123635e6fb5e19ceb42ce38d4e58f45\n",
            "Successfully built sacremoses\n",
            "Installing collected packages: sentencepiece, tokenizers, sacremoses, transformers, bert-extractive-summarizer\n",
            "Successfully installed bert-extractive-summarizer-0.5.1 sacremoses-0.0.43 sentencepiece-0.1.91 tokenizers-0.9.3 transformers-3.5.1\n"
          ],
          "name": "stdout"
        }
      ]
    },
    {
      "cell_type": "code",
      "metadata": {
        "id": "dhNBHgb9VFlO"
      },
      "source": [
        ""
      ],
      "execution_count": 4,
      "outputs": []
    },
    {
      "cell_type": "code",
      "metadata": {
        "id": "7ul5H6fIXnxR",
        "colab": {
          "base_uri": "https://localhost:8080/"
        },
        "outputId": "c1de9491-2817-4c32-af0c-723a76157e80"
      },
      "source": [
        "from summarizer import Summarizer\n",
        "model= Summarizer()\n",
        "\n",
        "def summerizer(text):\n",
        "  summary= model(text,num_sentences=4)\n",
        "  return summary\n",
        "\n",
        "text=\"\"\" Difference Between An Entrepreneur And An Organizer\n",
        "Difference Between An Entrepreneur And An Organizer\n",
        "By\n",
        "Tycoonstory\n",
        "ShareFacebookTwitterPinterestWhatsApp\n",
        "Difference Between An Entrepreneur And An Organizer\n",
        "- Advertisement -\n",
        "\n",
        " \n",
        "What is the difference between an entrepreneur and an organizer? An entrepreneur is the one carrying the risk of the entire business. He or she coordinates all other factors and activities relating to production. An organizer performs the function of organizing but is not involved in the other works as an entrepreneur.\n",
        "\n",
        "Related Post: Differences Between Solopreneurs and an Entrepreneur\n",
        "\n",
        "What is the role of an entrepreneur?\n",
        "The role of an entrepreneur is to combine labor and capital, thus produce a product. Selling in the market the produce means he pays wages, rent, and interest on capital. Eventually, the remaining is his or her profit.\n",
        "\n",
        "The entrepreneur shifts the economic resources of an area into higher or lower productivity to offer a greater yield. Thus, it has a distinction between the capitalist role as a financier, and the entrepreneur is the organizer. The entrepreneur plays different roles that possess the art of administration and superintendence. He elaborates on complex operations such as repressing anxieties, surmounting obstacles, repairing misfortunes, and devising the expedients.\n",
        "\n",
        "An entrepreneur requires:\n",
        "\n",
        "Command over capital sufficiency\n",
        "Morale work qualities such as perseverance, judgment, and knowledge.\n",
        "Profits uncertainty\n",
        "Entrepreneur functions\n",
        "role of an entrepreneur\n",
        "Also Read: 4 Reasons Small Businesses Should Embrace Influencer Marketing\n",
        "\n",
        "There are numerous functions that an entrepreneur performs:\n",
        "\n",
        "Conceiving and Initiating: The role of an entrepreneur is to envisage a business plan. He may do it alone or with his friends and put it to execution. Thus, give a start to the business.\n",
        "\n",
        "Organizing: An entrepreneur knows the place to start, where to sell, how much to produce, and to tackle. He should make financial arrangements, buy machinery, install, hire labor, and assign suitable jobs. There is a need to procure raw materials and organize the manufacturing process.\n",
        "\n",
        "Directing and Supervising: The entrepreneur cannot stop business organizing. There is a need to direct the production and supervise every detail to ascertain production.\n",
        "\n",
        "Control: The entrepreneur can seek help from assistants and keep business control in his hands. He cannot leave destiny into the hands of others.\n",
        "\n",
        "Risk-taking: The entrepreneur pays in advance for production. He may earn a profit or suffer a loss. Thus, whatever is the consequence, he bears it.\n",
        "\n",
        "Innovation: An important function is to consider innovation to bring improvement in production.\n",
        "\n",
        "What is the role of an Organizer?\n",
        "Role of an Organizer\n",
        "Also Read: Advantages and disadvantages of opening a new branch office\n",
        "\n",
        "Organizers perform a range of tasks, depending on the company they work for. The difference between an entrepreneur and an organizer is that an organizer handles typical roles such as:\n",
        "\n",
        "Perform On-Site Organization: Organizers travel to businesses or visit clients carrying out pre-arranged organization tasks. They shop to meet the needs of clients.\n",
        "\n",
        "Coordinate Schedules: Maintain regular communication, existing and prospective clients, schedule organization tasks, and arrange meetings or visits, and reply to queries.\n",
        "\n",
        "Maintain Personal Supplies: They keep track of equipment and personal inventory of the jobs they handle. They replace supplies if essential.\n",
        "\n",
        "Generate Network and Leads: Networking is an organizer’s key part. They market services to companies or people, generate leads, and drive people to the company they work for.\n",
        "\n",
        "Perform Administrative Duties:  They perform the administrative tasks to fulfill the responsibilities. It includes updating client files, website, processing payments, and invoices, filing taxes, and responding to emails.\n",
        "\n",
        "Organizer skill sets\n",
        "Organizers work with different backgrounds of people. However, they stay non-judgmental, open-minded, guiding clients, and offer comfortable coaching on new practices. No formal requirements, it is beneficial to have abilities:\n",
        "\n",
        "Self-motivation- The organizers work independently and are self-starters that self-motivation is a must.\n",
        "Time management – Effective management of time is a must to ensure meeting strict schedules and deadlines of clients.\n",
        "Networking- Promoting a business and finding new clients requires a fun personality. They should stay positive and must have networking skills to communicate comfortably. Phone etiquette should be absolute.\n",
        "The role of an entrepreneur is to begin a system and ensure production. An organizer implements efficient organizational systems.\n",
        "\"\"\"  \n",
        "print(summerizer(text))"
      ],
      "execution_count": 4,
      "outputs": [
        {
          "output_type": "stream",
          "text": [
            "Difference Between An Entrepreneur And An Organizer\n",
            "Difference Between An Entrepreneur And An Organizer\n",
            "By\n",
            "Tycoonstory\n",
            "ShareFacebookTwitterPinterestWhatsApp\n",
            "Difference Between An Entrepreneur And An Organizer\n",
            "- Advertisement -\n",
            "\n",
            " \n",
            "What is the difference between an entrepreneur and an organizer? Eventually, the remaining is his or her profit. Control: The entrepreneur can seek help from assistants and keep business control in his hands. No formal requirements, it is beneficial to have abilities:\n",
            "\n",
            "Self-motivation- The organizers work independently and are self-starters that self-motivation is a must. They should stay positive and must have networking skills to communicate comfortably.\n"
          ],
          "name": "stdout"
        }
      ]
    }
  ]
}